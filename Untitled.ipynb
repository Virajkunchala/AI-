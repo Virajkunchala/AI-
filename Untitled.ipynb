{
 "cells": [
  {
   "cell_type": "code",
   "execution_count": 10,
   "id": "8bafc89c",
   "metadata": {},
   "outputs": [
    {
     "data": {
      "text/plain": [
       "0.7921348314606742"
      ]
     },
     "execution_count": 10,
     "metadata": {},
     "output_type": "execute_result"
    }
   ],
   "source": [
    "sen=6627/(6627+1739)\n",
    "sen"
   ]
  },
  {
   "cell_type": "code",
   "execution_count": 9,
   "id": "9785a92c",
   "metadata": {},
   "outputs": [
    {
     "data": {
      "text/plain": [
       "0.7994143484626647"
      ]
     },
     "execution_count": 9,
     "metadata": {},
     "output_type": "execute_result"
    }
   ],
   "source": [
    "spec=546/(546+137)\n",
    "spec"
   ]
  },
  {
   "cell_type": "code",
   "execution_count": 16,
   "id": "0cf6af8c",
   "metadata": {},
   "outputs": [
    {
     "data": {
      "text/plain": [
       "0.7926842745054702"
      ]
     },
     "execution_count": 16,
     "metadata": {},
     "output_type": "execute_result"
    }
   ],
   "source": [
    "accuracy=(6627+546)/(6627+137+546+1739)\n",
    "accuracy"
   ]
  },
  {
   "cell_type": "code",
   "execution_count": 18,
   "id": "b02e44e2",
   "metadata": {},
   "outputs": [],
   "source": [
    "xut=[1,23,4,5]\n"
   ]
  },
  {
   "cell_type": "code",
   "execution_count": null,
   "id": "73382f2d",
   "metadata": {},
   "outputs": [],
   "source": []
  }
 ],
 "metadata": {
  "kernelspec": {
   "display_name": "Python 3 (ipykernel)",
   "language": "python",
   "name": "python3"
  },
  "language_info": {
   "codemirror_mode": {
    "name": "ipython",
    "version": 3
   },
   "file_extension": ".py",
   "mimetype": "text/x-python",
   "name": "python",
   "nbconvert_exporter": "python",
   "pygments_lexer": "ipython3",
   "version": "3.9.13"
  }
 },
 "nbformat": 4,
 "nbformat_minor": 5
}
