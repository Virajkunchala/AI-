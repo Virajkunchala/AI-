{
 "cells": [
  {
   "cell_type": "markdown",
   "id": "df4a1f3e",
   "metadata": {},
   "source": [
    "1)After Eda findings are \n",
    "Infected ones are 1305\n",
    "Helathy ones are 516\n",
    "\n",
    "Multiple Diease ones are 91\n",
    "not having Multiple Diease ones are 1730\n",
    "\n",
    "Effected with Rust are 622\n",
    "uneffected are 1199\n",
    "\n",
    "More EDA is attached in Kaggle notebook"
   ]
  },
  {
   "cell_type": "markdown",
   "id": "31d0334a",
   "metadata": {},
   "source": [
    "2)a)When data is scarce in this scenario, a typical routine would involve utilizing the available data as efficiently as possible. This could include techniques such as:\n",
    "Data augmentation\n",
    "Transfer learning\n",
    "Semi-supervised learning\n",
    "Active learning\n",
    "Ensemble methods\n"
   ]
  },
  {
   "cell_type": "markdown",
   "id": "a899b91d",
   "metadata": {},
   "source": [
    "2)b\n",
    "Some basic data augmentation techniques that can be applied to plant leaf images include:\n",
    "\n",
    "Rotation: Rotating the images by small angles can help the model generalize better to images taken from different angles.\n",
    "Flipping: Flipping the images horizontally or vertically can also help the model generalize better.\n",
    "Scaling: Scaling the images up or down can also be useful in helping the model generalize better to different sizes of leaves.\n",
    "Brightness and contrast adjustment: Adjusting the brightness and contrast can also help the model generalize better to different lighting conditions.\n",
    "Adding noise: Adding random noise to the images can also be useful in helping the model generalize better to different levels of noise in real-world images."
   ]
  },
  {
   "cell_type": "markdown",
   "id": "36d77f2b",
   "metadata": {},
   "source": [
    "2)c)"
   ]
  }
 ],
 "metadata": {
  "kernelspec": {
   "display_name": "Python 3 (ipykernel)",
   "language": "python",
   "name": "python3"
  },
  "language_info": {
   "codemirror_mode": {
    "name": "ipython",
    "version": 3
   },
   "file_extension": ".py",
   "mimetype": "text/x-python",
   "name": "python",
   "nbconvert_exporter": "python",
   "pygments_lexer": "ipython3",
   "version": "3.9.8"
  }
 },
 "nbformat": 4,
 "nbformat_minor": 5
}
